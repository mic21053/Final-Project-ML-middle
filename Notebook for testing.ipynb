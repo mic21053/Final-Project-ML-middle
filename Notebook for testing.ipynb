{
 "cells": [
  {
   "cell_type": "code",
   "execution_count": null,
   "id": "2a27f7df",
   "metadata": {},
   "outputs": [],
   "source": [
    "!python3 emo_on_photo.py ./test_kaggle/25.jpg va"
   ]
  },
  {
   "cell_type": "code",
   "execution_count": 3,
   "id": "7cd31c82",
   "metadata": {},
   "outputs": [],
   "source": [
    "!python3 emo_on_video.py Эмоции.avi"
   ]
  },
  {
   "cell_type": "code",
   "execution_count": 4,
   "id": "609f2dab",
   "metadata": {},
   "outputs": [],
   "source": [
    "!python3 emo_on_web.py"
   ]
  }
 ],
 "metadata": {
  "kernelspec": {
   "display_name": "tfod",
   "language": "python",
   "name": "tfod"
  },
  "language_info": {
   "codemirror_mode": {
    "name": "ipython",
    "version": 3
   },
   "file_extension": ".py",
   "mimetype": "text/x-python",
   "name": "python",
   "nbconvert_exporter": "python",
   "pygments_lexer": "ipython3",
   "version": "3.8.10"
  }
 },
 "nbformat": 4,
 "nbformat_minor": 5
}
